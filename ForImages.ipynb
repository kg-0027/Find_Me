{
  "nbformat": 4,
  "nbformat_minor": 0,
  "metadata": {
    "colab": {
      "provenance": []
    },
    "kernelspec": {
      "name": "python3",
      "display_name": "Python 3"
    },
    "language_info": {
      "name": "python"
    }
  },
  "cells": [
    {
      "cell_type": "code",
      "execution_count": null,
      "metadata": {
        "colab": {
          "base_uri": "https://localhost:8080/"
        },
        "id": "BfN-DCCq6-Uc",
        "outputId": "da0e0fa3-35f0-4278-e681-b0837b442841"
      },
      "outputs": [
        {
          "output_type": "stream",
          "name": "stdout",
          "text": [
            "Looking in indexes: https://pypi.org/simple, https://us-python.pkg.dev/colab-wheels/public/simple/\n",
            "Collecting deepface\n",
            "  Downloading deepface-0.0.79-py3-none-any.whl (49 kB)\n",
            "\u001b[2K     \u001b[90m━━━━━━━━━━━━━━━━━━━━━━━━━━━━━━━━━━━━━━━━\u001b[0m \u001b[32m49.6/49.6 kB\u001b[0m \u001b[31m2.1 MB/s\u001b[0m eta \u001b[36m0:00:00\u001b[0m\n",
            "\u001b[?25hCollecting pyspark\n",
            "  Downloading pyspark-3.4.0.tar.gz (310.8 MB)\n",
            "\u001b[2K     \u001b[90m━━━━━━━━━━━━━━━━━━━━━━━━━━━━━━━━━━━━━━━\u001b[0m \u001b[32m310.8/310.8 MB\u001b[0m \u001b[31m3.3 MB/s\u001b[0m eta \u001b[36m0:00:00\u001b[0m\n",
            "\u001b[?25h  Preparing metadata (setup.py) ... \u001b[?25l\u001b[?25hdone\n",
            "Requirement already satisfied: tensorflow>=1.9.0 in /usr/local/lib/python3.9/dist-packages (from deepface) (2.12.0)\n",
            "Requirement already satisfied: Flask>=1.1.2 in /usr/local/lib/python3.9/dist-packages (from deepface) (2.2.3)\n",
            "Requirement already satisfied: tqdm>=4.30.0 in /usr/local/lib/python3.9/dist-packages (from deepface) (4.65.0)\n",
            "Requirement already satisfied: gdown>=3.10.1 in /usr/local/lib/python3.9/dist-packages (from deepface) (4.6.6)\n",
            "Collecting gunicorn>=20.1.0\n",
            "  Downloading gunicorn-20.1.0-py3-none-any.whl (79 kB)\n",
            "\u001b[2K     \u001b[90m━━━━━━━━━━━━━━━━━━━━━━━━━━━━━━━━━━━━━━━━\u001b[0m \u001b[32m79.5/79.5 kB\u001b[0m \u001b[31m9.0 MB/s\u001b[0m eta \u001b[36m0:00:00\u001b[0m\n",
            "\u001b[?25hRequirement already satisfied: keras>=2.2.0 in /usr/local/lib/python3.9/dist-packages (from deepface) (2.12.0)\n",
            "Collecting mtcnn>=0.1.0\n",
            "  Downloading mtcnn-0.1.1-py3-none-any.whl (2.3 MB)\n",
            "\u001b[2K     \u001b[90m━━━━━━━━━━━━━━━━━━━━━━━━━━━━━━━━━━━━━━━━\u001b[0m \u001b[32m2.3/2.3 MB\u001b[0m \u001b[31m74.6 MB/s\u001b[0m eta \u001b[36m0:00:00\u001b[0m\n",
            "\u001b[?25hRequirement already satisfied: pandas>=0.23.4 in /usr/local/lib/python3.9/dist-packages (from deepface) (1.5.3)\n",
            "Collecting retina-face>=0.0.1\n",
            "  Downloading retina_face-0.0.13-py3-none-any.whl (16 kB)\n",
            "Requirement already satisfied: numpy>=1.14.0 in /usr/local/lib/python3.9/dist-packages (from deepface) (1.22.4)\n",
            "Collecting fire>=0.4.0\n",
            "  Downloading fire-0.5.0.tar.gz (88 kB)\n",
            "\u001b[2K     \u001b[90m━━━━━━━━━━━━━━━━━━━━━━━━━━━━━━━━━━━━━━━━\u001b[0m \u001b[32m88.3/88.3 kB\u001b[0m \u001b[31m10.4 MB/s\u001b[0m eta \u001b[36m0:00:00\u001b[0m\n",
            "\u001b[?25h  Preparing metadata (setup.py) ... \u001b[?25l\u001b[?25hdone\n",
            "Requirement already satisfied: opencv-python>=4.5.5.64 in /usr/local/lib/python3.9/dist-packages (from deepface) (4.7.0.72)\n",
            "Requirement already satisfied: Pillow>=5.2.0 in /usr/local/lib/python3.9/dist-packages (from deepface) (8.4.0)\n",
            "Requirement already satisfied: py4j==0.10.9.7 in /usr/local/lib/python3.9/dist-packages (from pyspark) (0.10.9.7)\n",
            "Requirement already satisfied: six in /usr/local/lib/python3.9/dist-packages (from fire>=0.4.0->deepface) (1.16.0)\n",
            "Requirement already satisfied: termcolor in /usr/local/lib/python3.9/dist-packages (from fire>=0.4.0->deepface) (2.2.0)\n",
            "Requirement already satisfied: importlib-metadata>=3.6.0 in /usr/local/lib/python3.9/dist-packages (from Flask>=1.1.2->deepface) (6.4.1)\n",
            "Requirement already satisfied: click>=8.0 in /usr/local/lib/python3.9/dist-packages (from Flask>=1.1.2->deepface) (8.1.3)\n",
            "Requirement already satisfied: Jinja2>=3.0 in /usr/local/lib/python3.9/dist-packages (from Flask>=1.1.2->deepface) (3.1.2)\n",
            "Requirement already satisfied: Werkzeug>=2.2.2 in /usr/local/lib/python3.9/dist-packages (from Flask>=1.1.2->deepface) (2.2.3)\n",
            "Requirement already satisfied: itsdangerous>=2.0 in /usr/local/lib/python3.9/dist-packages (from Flask>=1.1.2->deepface) (2.1.2)\n",
            "Requirement already satisfied: beautifulsoup4 in /usr/local/lib/python3.9/dist-packages (from gdown>=3.10.1->deepface) (4.11.2)\n",
            "Requirement already satisfied: requests[socks] in /usr/local/lib/python3.9/dist-packages (from gdown>=3.10.1->deepface) (2.27.1)\n",
            "Requirement already satisfied: filelock in /usr/local/lib/python3.9/dist-packages (from gdown>=3.10.1->deepface) (3.11.0)\n",
            "Requirement already satisfied: setuptools>=3.0 in /usr/local/lib/python3.9/dist-packages (from gunicorn>=20.1.0->deepface) (67.7.2)\n",
            "Requirement already satisfied: pytz>=2020.1 in /usr/local/lib/python3.9/dist-packages (from pandas>=0.23.4->deepface) (2022.7.1)\n",
            "Requirement already satisfied: python-dateutil>=2.8.1 in /usr/local/lib/python3.9/dist-packages (from pandas>=0.23.4->deepface) (2.8.2)\n",
            "Requirement already satisfied: libclang>=13.0.0 in /usr/local/lib/python3.9/dist-packages (from tensorflow>=1.9.0->deepface) (16.0.0)\n",
            "Requirement already satisfied: absl-py>=1.0.0 in /usr/local/lib/python3.9/dist-packages (from tensorflow>=1.9.0->deepface) (1.4.0)\n",
            "Requirement already satisfied: protobuf!=4.21.0,!=4.21.1,!=4.21.2,!=4.21.3,!=4.21.4,!=4.21.5,<5.0.0dev,>=3.20.3 in /usr/local/lib/python3.9/dist-packages (from tensorflow>=1.9.0->deepface) (3.20.3)\n",
            "Requirement already satisfied: typing-extensions>=3.6.6 in /usr/local/lib/python3.9/dist-packages (from tensorflow>=1.9.0->deepface) (4.5.0)\n",
            "Requirement already satisfied: flatbuffers>=2.0 in /usr/local/lib/python3.9/dist-packages (from tensorflow>=1.9.0->deepface) (23.3.3)\n",
            "Requirement already satisfied: opt-einsum>=2.3.2 in /usr/local/lib/python3.9/dist-packages (from tensorflow>=1.9.0->deepface) (3.3.0)\n",
            "Requirement already satisfied: h5py>=2.9.0 in /usr/local/lib/python3.9/dist-packages (from tensorflow>=1.9.0->deepface) (3.8.0)\n",
            "Requirement already satisfied: tensorflow-estimator<2.13,>=2.12.0 in /usr/local/lib/python3.9/dist-packages (from tensorflow>=1.9.0->deepface) (2.12.0)\n",
            "Requirement already satisfied: jax>=0.3.15 in /usr/local/lib/python3.9/dist-packages (from tensorflow>=1.9.0->deepface) (0.4.8)\n",
            "Requirement already satisfied: tensorboard<2.13,>=2.12 in /usr/local/lib/python3.9/dist-packages (from tensorflow>=1.9.0->deepface) (2.12.2)\n",
            "Requirement already satisfied: gast<=0.4.0,>=0.2.1 in /usr/local/lib/python3.9/dist-packages (from tensorflow>=1.9.0->deepface) (0.4.0)\n",
            "Requirement already satisfied: grpcio<2.0,>=1.24.3 in /usr/local/lib/python3.9/dist-packages (from tensorflow>=1.9.0->deepface) (1.53.0)\n",
            "Requirement already satisfied: google-pasta>=0.1.1 in /usr/local/lib/python3.9/dist-packages (from tensorflow>=1.9.0->deepface) (0.2.0)\n",
            "Requirement already satisfied: tensorflow-io-gcs-filesystem>=0.23.1 in /usr/local/lib/python3.9/dist-packages (from tensorflow>=1.9.0->deepface) (0.32.0)\n",
            "Requirement already satisfied: packaging in /usr/local/lib/python3.9/dist-packages (from tensorflow>=1.9.0->deepface) (23.1)\n",
            "Requirement already satisfied: wrapt<1.15,>=1.11.0 in /usr/local/lib/python3.9/dist-packages (from tensorflow>=1.9.0->deepface) (1.14.1)\n",
            "Requirement already satisfied: astunparse>=1.6.0 in /usr/local/lib/python3.9/dist-packages (from tensorflow>=1.9.0->deepface) (1.6.3)\n",
            "Requirement already satisfied: wheel<1.0,>=0.23.0 in /usr/local/lib/python3.9/dist-packages (from astunparse>=1.6.0->tensorflow>=1.9.0->deepface) (0.40.0)\n",
            "Requirement already satisfied: zipp>=0.5 in /usr/local/lib/python3.9/dist-packages (from importlib-metadata>=3.6.0->Flask>=1.1.2->deepface) (3.15.0)\n",
            "Requirement already satisfied: scipy>=1.7 in /usr/local/lib/python3.9/dist-packages (from jax>=0.3.15->tensorflow>=1.9.0->deepface) (1.10.1)\n",
            "Requirement already satisfied: ml-dtypes>=0.0.3 in /usr/local/lib/python3.9/dist-packages (from jax>=0.3.15->tensorflow>=1.9.0->deepface) (0.1.0)\n",
            "Requirement already satisfied: MarkupSafe>=2.0 in /usr/local/lib/python3.9/dist-packages (from Jinja2>=3.0->Flask>=1.1.2->deepface) (2.1.2)\n",
            "Requirement already satisfied: tensorboard-plugin-wit>=1.6.0 in /usr/local/lib/python3.9/dist-packages (from tensorboard<2.13,>=2.12->tensorflow>=1.9.0->deepface) (1.8.1)\n",
            "Requirement already satisfied: tensorboard-data-server<0.8.0,>=0.7.0 in /usr/local/lib/python3.9/dist-packages (from tensorboard<2.13,>=2.12->tensorflow>=1.9.0->deepface) (0.7.0)\n",
            "Requirement already satisfied: google-auth-oauthlib<1.1,>=0.5 in /usr/local/lib/python3.9/dist-packages (from tensorboard<2.13,>=2.12->tensorflow>=1.9.0->deepface) (1.0.0)\n",
            "Requirement already satisfied: google-auth<3,>=1.6.3 in /usr/local/lib/python3.9/dist-packages (from tensorboard<2.13,>=2.12->tensorflow>=1.9.0->deepface) (2.17.3)\n",
            "Requirement already satisfied: markdown>=2.6.8 in /usr/local/lib/python3.9/dist-packages (from tensorboard<2.13,>=2.12->tensorflow>=1.9.0->deepface) (3.4.3)\n",
            "Requirement already satisfied: soupsieve>1.2 in /usr/local/lib/python3.9/dist-packages (from beautifulsoup4->gdown>=3.10.1->deepface) (2.4.1)\n",
            "Requirement already satisfied: charset-normalizer~=2.0.0 in /usr/local/lib/python3.9/dist-packages (from requests[socks]->gdown>=3.10.1->deepface) (2.0.12)\n",
            "Requirement already satisfied: certifi>=2017.4.17 in /usr/local/lib/python3.9/dist-packages (from requests[socks]->gdown>=3.10.1->deepface) (2022.12.7)\n",
            "Requirement already satisfied: idna<4,>=2.5 in /usr/local/lib/python3.9/dist-packages (from requests[socks]->gdown>=3.10.1->deepface) (3.4)\n",
            "Requirement already satisfied: urllib3<1.27,>=1.21.1 in /usr/local/lib/python3.9/dist-packages (from requests[socks]->gdown>=3.10.1->deepface) (1.26.15)\n",
            "Requirement already satisfied: PySocks!=1.5.7,>=1.5.6 in /usr/local/lib/python3.9/dist-packages (from requests[socks]->gdown>=3.10.1->deepface) (1.7.1)\n",
            "Requirement already satisfied: cachetools<6.0,>=2.0.0 in /usr/local/lib/python3.9/dist-packages (from google-auth<3,>=1.6.3->tensorboard<2.13,>=2.12->tensorflow>=1.9.0->deepface) (5.3.0)\n",
            "Requirement already satisfied: pyasn1-modules>=0.2.1 in /usr/local/lib/python3.9/dist-packages (from google-auth<3,>=1.6.3->tensorboard<2.13,>=2.12->tensorflow>=1.9.0->deepface) (0.2.8)\n",
            "Requirement already satisfied: rsa<5,>=3.1.4 in /usr/local/lib/python3.9/dist-packages (from google-auth<3,>=1.6.3->tensorboard<2.13,>=2.12->tensorflow>=1.9.0->deepface) (4.9)\n",
            "Requirement already satisfied: requests-oauthlib>=0.7.0 in /usr/local/lib/python3.9/dist-packages (from google-auth-oauthlib<1.1,>=0.5->tensorboard<2.13,>=2.12->tensorflow>=1.9.0->deepface) (1.3.1)\n",
            "Requirement already satisfied: pyasn1<0.5.0,>=0.4.6 in /usr/local/lib/python3.9/dist-packages (from pyasn1-modules>=0.2.1->google-auth<3,>=1.6.3->tensorboard<2.13,>=2.12->tensorflow>=1.9.0->deepface) (0.4.8)\n",
            "Requirement already satisfied: oauthlib>=3.0.0 in /usr/local/lib/python3.9/dist-packages (from requests-oauthlib>=0.7.0->google-auth-oauthlib<1.1,>=0.5->tensorboard<2.13,>=2.12->tensorflow>=1.9.0->deepface) (3.2.2)\n",
            "Building wheels for collected packages: pyspark, fire\n",
            "  Building wheel for pyspark (setup.py) ... \u001b[?25l\u001b[?25hdone\n",
            "  Created wheel for pyspark: filename=pyspark-3.4.0-py2.py3-none-any.whl size=311317145 sha256=feadb459ab3c59440bd394b3ba4815a53683fa0a44b3d15c234b0509eda929a7\n",
            "  Stored in directory: /root/.cache/pip/wheels/9f/34/a4/159aa12d0a510d5ff7c8f0220abbea42e5d81ecf588c4fd884\n",
            "  Building wheel for fire (setup.py) ... \u001b[?25l\u001b[?25hdone\n",
            "  Created wheel for fire: filename=fire-0.5.0-py2.py3-none-any.whl size=116952 sha256=7dac5256bc04c3de300f2938092b30e60bfb83262d5fefc2bf09fe5ea1c5bf80\n",
            "  Stored in directory: /root/.cache/pip/wheels/f7/f1/89/b9ea2bf8f80ec027a88fef1d354b3816b4d3d29530988972f6\n",
            "Successfully built pyspark fire\n",
            "Installing collected packages: pyspark, gunicorn, fire, mtcnn, retina-face, deepface\n",
            "Successfully installed deepface-0.0.79 fire-0.5.0 gunicorn-20.1.0 mtcnn-0.1.1 pyspark-3.4.0 retina-face-0.0.13\n"
          ]
        }
      ],
      "source": [
        "%pip install deepface pyspark"
      ]
    },
    {
      "cell_type": "code",
      "source": [
        "import pandas as pd\n",
        "import numpy as np\n",
        "import pickle\n",
        "import matplotlib.pyplot as plt\n",
        "import time\n",
        "import os\n",
        "from tqdm import tqdm\n",
        "\n",
        "from pyspark.sql import SparkSession\n",
        "from pyspark.sql.types import *\n",
        "import pyspark.sql.functions as F\n",
        "\n",
        "#!pip install deepface\n",
        "from deepface import DeepFace\n",
        "from deepface.commons import functions"
      ],
      "metadata": {
        "id": "bSldOt-y7atR",
        "colab": {
          "base_uri": "https://localhost:8080/"
        },
        "outputId": "65734a14-d495-4000-db1c-3349ff190f18"
      },
      "execution_count": null,
      "outputs": [
        {
          "output_type": "stream",
          "name": "stdout",
          "text": [
            "Directory  /root /.deepface created\n",
            "Directory  /root /.deepface/weights created\n"
          ]
        }
      ]
    },
    {
      "cell_type": "code",
      "source": [
        "model = DeepFace.build_model(\"Facenet\")"
      ],
      "metadata": {
        "colab": {
          "base_uri": "https://localhost:8080/"
        },
        "id": "80AS60_47pK6",
        "outputId": "822e5327-addb-417c-c5f1-1825c50ad8b6"
      },
      "execution_count": null,
      "outputs": [
        {
          "output_type": "stream",
          "name": "stdout",
          "text": [
            "facenet_weights.h5 will be downloaded...\n"
          ]
        },
        {
          "output_type": "stream",
          "name": "stderr",
          "text": [
            "Downloading...\n",
            "From: https://github.com/serengil/deepface_models/releases/download/v1.0/facenet_weights.h5\n",
            "To: /root/.deepface/weights/facenet_weights.h5\n",
            "100%|██████████| 92.2M/92.2M [00:00<00:00, 206MB/s]\n"
          ]
        }
      ]
    },
    {
      "cell_type": "code",
      "source": [
        "os.mkdir(\"dataset\")"
      ],
      "metadata": {
        "id": "TNMahQIz7tIF"
      },
      "execution_count": null,
      "outputs": []
    },
    {
      "cell_type": "code",
      "source": [
        "facial_img_paths = []\n",
        "for root, directory, files in os.walk(\"dataset/\"):\n",
        "    for file in files:\n",
        "        if '.JPG' in file:\n",
        "            facial_img_paths.append(root+\"/\"+file)\n",
        "facial_img_paths"
      ],
      "metadata": {
        "id": "btyfSUrj7w-J",
        "colab": {
          "base_uri": "https://localhost:8080/"
        },
        "outputId": "20be012f-4ff3-4317-f3fe-1385d21ad396"
      },
      "execution_count": null,
      "outputs": [
        {
          "output_type": "execute_result",
          "data": {
            "text/plain": [
              "['dataset//2a8ab4d1-597f-457a-a14a-4e8c4c047a21.JPG',\n",
              " 'dataset//049A1105.JPG',\n",
              " 'dataset//049A1104.JPG',\n",
              " 'dataset//5L5B2543.JPG',\n",
              " 'dataset//049A1117.JPG',\n",
              " 'dataset//049A1181.JPG',\n",
              " 'dataset//049A1107.JPG',\n",
              " 'dataset//target.JPG',\n",
              " 'dataset//5L5B0637.JPG',\n",
              " 'dataset//049A1351.JPG',\n",
              " 'dataset//049A1210.JPG',\n",
              " 'dataset//5L5B0664.JPG',\n",
              " 'dataset//049A1337.JPG',\n",
              " 'dataset//049A1405.JPG',\n",
              " 'dataset//049A1174.JPG',\n",
              " 'dataset//049A1349.JPG',\n",
              " 'dataset//049A1411.JPG',\n",
              " 'dataset//049A1241.JPG',\n",
              " 'dataset//049A1410.JPG',\n",
              " 'dataset//049A1449.JPG']"
            ]
          },
          "metadata": {},
          "execution_count": 6
        }
      ]
    },
    {
      "cell_type": "code",
      "source": [
        "instances = []\n",
        "\n",
        "for i in tqdm(range(0, len(facial_img_paths))):\n",
        "    facial_img_path = facial_img_paths[i]\n",
        "\n",
        "    #detect and align\n",
        "    facial_img_temp = functions.extract_faces(facial_img_path, target_size = (160, 160), enforce_detection = False)\n",
        "    facial_img = facial_img_temp[0][:-2]\n",
        "    #represent\n",
        "    embedding = model.predict(facial_img[0])[0].tolist()\n",
        "\n",
        "    #store\n",
        "    instance = []\n",
        "    instance.append(facial_img_path)\n",
        "    instance.append(embedding)\n",
        "    instances.append(instance)"
      ],
      "metadata": {
        "colab": {
          "base_uri": "https://localhost:8080/"
        },
        "id": "2ILE9mFv8RXk",
        "outputId": "8d8e2de9-839b-4a67-f116-2be50ff799d5"
      },
      "execution_count": null,
      "outputs": [
        {
          "output_type": "stream",
          "name": "stderr",
          "text": [
            "\r  0%|          | 0/20 [00:00<?, ?it/s]"
          ]
        },
        {
          "output_type": "stream",
          "name": "stdout",
          "text": [
            "1/1 [==============================] - 4s 4s/step\n"
          ]
        },
        {
          "output_type": "stream",
          "name": "stderr",
          "text": [
            "\r  5%|▌         | 1/20 [00:07<02:13,  7.05s/it]"
          ]
        },
        {
          "output_type": "stream",
          "name": "stdout",
          "text": [
            "1/1 [==============================] - 0s 206ms/step\n"
          ]
        },
        {
          "output_type": "stream",
          "name": "stderr",
          "text": [
            "\r 10%|█         | 2/20 [00:21<03:30, 11.69s/it]"
          ]
        },
        {
          "output_type": "stream",
          "name": "stdout",
          "text": [
            "1/1 [==============================] - 0s 106ms/step\n"
          ]
        },
        {
          "output_type": "stream",
          "name": "stderr",
          "text": [
            "\r 15%|█▌        | 3/20 [00:35<03:35, 12.70s/it]"
          ]
        },
        {
          "output_type": "stream",
          "name": "stdout",
          "text": [
            "1/1 [==============================] - 0s 182ms/step\n"
          ]
        },
        {
          "output_type": "stream",
          "name": "stderr",
          "text": [
            "\r 20%|██        | 4/20 [00:47<03:19, 12.45s/it]"
          ]
        },
        {
          "output_type": "stream",
          "name": "stdout",
          "text": [
            "1/1 [==============================] - 0s 104ms/step\n"
          ]
        },
        {
          "output_type": "stream",
          "name": "stderr",
          "text": [
            "\r 25%|██▌       | 5/20 [00:57<02:52, 11.51s/it]"
          ]
        },
        {
          "output_type": "stream",
          "name": "stdout",
          "text": [
            "1/1 [==============================] - 0s 181ms/step\n"
          ]
        },
        {
          "output_type": "stream",
          "name": "stderr",
          "text": [
            "\r 30%|███       | 6/20 [01:15<03:11, 13.64s/it]"
          ]
        },
        {
          "output_type": "stream",
          "name": "stdout",
          "text": [
            "1/1 [==============================] - 0s 121ms/step\n"
          ]
        },
        {
          "output_type": "stream",
          "name": "stderr",
          "text": [
            "\r 35%|███▌      | 7/20 [01:23<02:33, 11.79s/it]"
          ]
        },
        {
          "output_type": "stream",
          "name": "stdout",
          "text": [
            "1/1 [==============================] - 0s 102ms/step\n"
          ]
        },
        {
          "output_type": "stream",
          "name": "stderr",
          "text": [
            "\r 40%|████      | 8/20 [01:33<02:12, 11.06s/it]"
          ]
        },
        {
          "output_type": "stream",
          "name": "stdout",
          "text": [
            "1/1 [==============================] - 0s 174ms/step\n"
          ]
        },
        {
          "output_type": "stream",
          "name": "stderr",
          "text": [
            "\r 45%|████▌     | 9/20 [01:43<01:58, 10.80s/it]"
          ]
        },
        {
          "output_type": "stream",
          "name": "stdout",
          "text": [
            "1/1 [==============================] - 0s 111ms/step\n"
          ]
        },
        {
          "output_type": "stream",
          "name": "stderr",
          "text": [
            "\r 50%|█████     | 10/20 [01:59<02:04, 12.46s/it]"
          ]
        },
        {
          "output_type": "stream",
          "name": "stdout",
          "text": [
            "1/1 [==============================] - 0s 162ms/step\n"
          ]
        },
        {
          "output_type": "stream",
          "name": "stderr",
          "text": [
            "\r 55%|█████▌    | 11/20 [02:09<01:45, 11.72s/it]"
          ]
        },
        {
          "output_type": "stream",
          "name": "stdout",
          "text": [
            "1/1 [==============================] - 0s 101ms/step\n"
          ]
        },
        {
          "output_type": "stream",
          "name": "stderr",
          "text": [
            "\r 60%|██████    | 12/20 [02:17<01:24, 10.54s/it]"
          ]
        },
        {
          "output_type": "stream",
          "name": "stdout",
          "text": [
            "1/1 [==============================] - 0s 174ms/step\n"
          ]
        },
        {
          "output_type": "stream",
          "name": "stderr",
          "text": [
            "\r 65%|██████▌   | 13/20 [02:37<01:34, 13.53s/it]"
          ]
        },
        {
          "output_type": "stream",
          "name": "stdout",
          "text": [
            "1/1 [==============================] - 0s 116ms/step\n"
          ]
        },
        {
          "output_type": "stream",
          "name": "stderr",
          "text": [
            "\r 70%|███████   | 14/20 [02:57<01:31, 15.27s/it]"
          ]
        },
        {
          "output_type": "stream",
          "name": "stdout",
          "text": [
            "1/1 [==============================] - 0s 104ms/step\n"
          ]
        },
        {
          "output_type": "stream",
          "name": "stderr",
          "text": [
            "\r 75%|███████▌  | 15/20 [03:02<01:01, 12.21s/it]"
          ]
        },
        {
          "output_type": "stream",
          "name": "stdout",
          "text": [
            "1/1 [==============================] - 0s 172ms/step\n"
          ]
        },
        {
          "output_type": "stream",
          "name": "stderr",
          "text": [
            "\r 80%|████████  | 16/20 [03:15<00:50, 12.68s/it]"
          ]
        },
        {
          "output_type": "stream",
          "name": "stdout",
          "text": [
            "1/1 [==============================] - 0s 106ms/step\n"
          ]
        },
        {
          "output_type": "stream",
          "name": "stderr",
          "text": [
            "\r 85%|████████▌ | 17/20 [03:36<00:45, 15.18s/it]"
          ]
        },
        {
          "output_type": "stream",
          "name": "stdout",
          "text": [
            "1/1 [==============================] - 0s 103ms/step\n"
          ]
        },
        {
          "output_type": "stream",
          "name": "stderr",
          "text": [
            "\r 90%|█████████ | 18/20 [03:49<00:28, 14.42s/it]"
          ]
        },
        {
          "output_type": "stream",
          "name": "stdout",
          "text": [
            "1/1 [==============================] - 0s 111ms/step\n"
          ]
        },
        {
          "output_type": "stream",
          "name": "stderr",
          "text": [
            "\r 95%|█████████▌| 19/20 [04:08<00:15, 15.65s/it]"
          ]
        },
        {
          "output_type": "stream",
          "name": "stdout",
          "text": [
            "1/1 [==============================] - 0s 178ms/step\n"
          ]
        },
        {
          "output_type": "stream",
          "name": "stderr",
          "text": [
            "100%|██████████| 20/20 [04:27<00:00, 13.37s/it]\n"
          ]
        }
      ]
    },
    {
      "cell_type": "code",
      "source": [
        "df = pd.DataFrame(instances, columns = [\"img_name\", \"embedding\"])"
      ],
      "metadata": {
        "id": "Rq3QLkke9RJC"
      },
      "execution_count": null,
      "outputs": []
    },
    {
      "cell_type": "code",
      "source": [
        "df.head()"
      ],
      "metadata": {
        "colab": {
          "base_uri": "https://localhost:8080/",
          "height": 337
        },
        "id": "f_yF221pBX0S",
        "outputId": "828d55f4-9531-43b2-d6b0-c99ae97c6797"
      },
      "execution_count": null,
      "outputs": [
        {
          "output_type": "execute_result",
          "data": {
            "text/plain": [
              "                                            img_name  \\\n",
              "0  dataset//2a8ab4d1-597f-457a-a14a-4e8c4c047a21.JPG   \n",
              "1                              dataset//049A1105.JPG   \n",
              "2                              dataset//049A1104.JPG   \n",
              "3                              dataset//5L5B2543.JPG   \n",
              "4                              dataset//049A1117.JPG   \n",
              "\n",
              "                                           embedding  \n",
              "0  [0.24776868522167206, -0.28536519408226013, 0....  \n",
              "1  [0.10554003715515137, -0.15312986075878143, 0....  \n",
              "2  [-0.3308723568916321, -0.16846424341201782, -0...  \n",
              "3  [1.913129448890686, 1.5013792514801025, 1.0096...  \n",
              "4  [-0.028331249952316284, -0.5091413259506226, -...  "
            ],
            "text/html": [
              "\n",
              "  <div id=\"df-8d97bb3d-1e30-4247-90d4-00b6cc6f1029\">\n",
              "    <div class=\"colab-df-container\">\n",
              "      <div>\n",
              "<style scoped>\n",
              "    .dataframe tbody tr th:only-of-type {\n",
              "        vertical-align: middle;\n",
              "    }\n",
              "\n",
              "    .dataframe tbody tr th {\n",
              "        vertical-align: top;\n",
              "    }\n",
              "\n",
              "    .dataframe thead th {\n",
              "        text-align: right;\n",
              "    }\n",
              "</style>\n",
              "<table border=\"1\" class=\"dataframe\">\n",
              "  <thead>\n",
              "    <tr style=\"text-align: right;\">\n",
              "      <th></th>\n",
              "      <th>img_name</th>\n",
              "      <th>embedding</th>\n",
              "    </tr>\n",
              "  </thead>\n",
              "  <tbody>\n",
              "    <tr>\n",
              "      <th>0</th>\n",
              "      <td>dataset//2a8ab4d1-597f-457a-a14a-4e8c4c047a21.JPG</td>\n",
              "      <td>[0.24776868522167206, -0.28536519408226013, 0....</td>\n",
              "    </tr>\n",
              "    <tr>\n",
              "      <th>1</th>\n",
              "      <td>dataset//049A1105.JPG</td>\n",
              "      <td>[0.10554003715515137, -0.15312986075878143, 0....</td>\n",
              "    </tr>\n",
              "    <tr>\n",
              "      <th>2</th>\n",
              "      <td>dataset//049A1104.JPG</td>\n",
              "      <td>[-0.3308723568916321, -0.16846424341201782, -0...</td>\n",
              "    </tr>\n",
              "    <tr>\n",
              "      <th>3</th>\n",
              "      <td>dataset//5L5B2543.JPG</td>\n",
              "      <td>[1.913129448890686, 1.5013792514801025, 1.0096...</td>\n",
              "    </tr>\n",
              "    <tr>\n",
              "      <th>4</th>\n",
              "      <td>dataset//049A1117.JPG</td>\n",
              "      <td>[-0.028331249952316284, -0.5091413259506226, -...</td>\n",
              "    </tr>\n",
              "  </tbody>\n",
              "</table>\n",
              "</div>\n",
              "      <button class=\"colab-df-convert\" onclick=\"convertToInteractive('df-8d97bb3d-1e30-4247-90d4-00b6cc6f1029')\"\n",
              "              title=\"Convert this dataframe to an interactive table.\"\n",
              "              style=\"display:none;\">\n",
              "        \n",
              "  <svg xmlns=\"http://www.w3.org/2000/svg\" height=\"24px\"viewBox=\"0 0 24 24\"\n",
              "       width=\"24px\">\n",
              "    <path d=\"M0 0h24v24H0V0z\" fill=\"none\"/>\n",
              "    <path d=\"M18.56 5.44l.94 2.06.94-2.06 2.06-.94-2.06-.94-.94-2.06-.94 2.06-2.06.94zm-11 1L8.5 8.5l.94-2.06 2.06-.94-2.06-.94L8.5 2.5l-.94 2.06-2.06.94zm10 10l.94 2.06.94-2.06 2.06-.94-2.06-.94-.94-2.06-.94 2.06-2.06.94z\"/><path d=\"M17.41 7.96l-1.37-1.37c-.4-.4-.92-.59-1.43-.59-.52 0-1.04.2-1.43.59L10.3 9.45l-7.72 7.72c-.78.78-.78 2.05 0 2.83L4 21.41c.39.39.9.59 1.41.59.51 0 1.02-.2 1.41-.59l7.78-7.78 2.81-2.81c.8-.78.8-2.07 0-2.86zM5.41 20L4 18.59l7.72-7.72 1.47 1.35L5.41 20z\"/>\n",
              "  </svg>\n",
              "      </button>\n",
              "      \n",
              "  <style>\n",
              "    .colab-df-container {\n",
              "      display:flex;\n",
              "      flex-wrap:wrap;\n",
              "      gap: 12px;\n",
              "    }\n",
              "\n",
              "    .colab-df-convert {\n",
              "      background-color: #E8F0FE;\n",
              "      border: none;\n",
              "      border-radius: 50%;\n",
              "      cursor: pointer;\n",
              "      display: none;\n",
              "      fill: #1967D2;\n",
              "      height: 32px;\n",
              "      padding: 0 0 0 0;\n",
              "      width: 32px;\n",
              "    }\n",
              "\n",
              "    .colab-df-convert:hover {\n",
              "      background-color: #E2EBFA;\n",
              "      box-shadow: 0px 1px 2px rgba(60, 64, 67, 0.3), 0px 1px 3px 1px rgba(60, 64, 67, 0.15);\n",
              "      fill: #174EA6;\n",
              "    }\n",
              "\n",
              "    [theme=dark] .colab-df-convert {\n",
              "      background-color: #3B4455;\n",
              "      fill: #D2E3FC;\n",
              "    }\n",
              "\n",
              "    [theme=dark] .colab-df-convert:hover {\n",
              "      background-color: #434B5C;\n",
              "      box-shadow: 0px 1px 3px 1px rgba(0, 0, 0, 0.15);\n",
              "      filter: drop-shadow(0px 1px 2px rgba(0, 0, 0, 0.3));\n",
              "      fill: #FFFFFF;\n",
              "    }\n",
              "  </style>\n",
              "\n",
              "      <script>\n",
              "        const buttonEl =\n",
              "          document.querySelector('#df-8d97bb3d-1e30-4247-90d4-00b6cc6f1029 button.colab-df-convert');\n",
              "        buttonEl.style.display =\n",
              "          google.colab.kernel.accessAllowed ? 'block' : 'none';\n",
              "\n",
              "        async function convertToInteractive(key) {\n",
              "          const element = document.querySelector('#df-8d97bb3d-1e30-4247-90d4-00b6cc6f1029');\n",
              "          const dataTable =\n",
              "            await google.colab.kernel.invokeFunction('convertToInteractive',\n",
              "                                                     [key], {});\n",
              "          if (!dataTable) return;\n",
              "\n",
              "          const docLinkHtml = 'Like what you see? Visit the ' +\n",
              "            '<a target=\"_blank\" href=https://colab.research.google.com/notebooks/data_table.ipynb>data table notebook</a>'\n",
              "            + ' to learn more about interactive tables.';\n",
              "          element.innerHTML = '';\n",
              "          dataTable['output_type'] = 'display_data';\n",
              "          await google.colab.output.renderOutput(dataTable, element);\n",
              "          const docLink = document.createElement('div');\n",
              "          docLink.innerHTML = docLinkHtml;\n",
              "          element.appendChild(docLink);\n",
              "        }\n",
              "      </script>\n",
              "    </div>\n",
              "  </div>\n",
              "  "
            ]
          },
          "metadata": {},
          "execution_count": 9
        }
      ]
    },
    {
      "cell_type": "markdown",
      "source": [
        "Spark"
      ],
      "metadata": {
        "id": "9ktkzZeHBeZz"
      }
    },
    {
      "cell_type": "code",
      "source": [
        "sparkSession = SparkSession.builder.appName(\"face-recognition\").getOrCreate()"
      ],
      "metadata": {
        "id": "OczkgYHSBg2_"
      },
      "execution_count": null,
      "outputs": []
    },
    {
      "cell_type": "code",
      "source": [
        "spark_df = sparkSession.createDataFrame(df)"
      ],
      "metadata": {
        "id": "etFQwxgIBiI-"
      },
      "execution_count": null,
      "outputs": []
    },
    {
      "cell_type": "code",
      "source": [
        "#spark_df.schema\n",
        "spark_df.printSchema()"
      ],
      "metadata": {
        "colab": {
          "base_uri": "https://localhost:8080/"
        },
        "id": "-CnnvqQ-Bl8v",
        "outputId": "f0e183bb-878d-4b1b-e862-d53b44579dce"
      },
      "execution_count": null,
      "outputs": [
        {
          "output_type": "stream",
          "name": "stdout",
          "text": [
            "root\n",
            " |-- img_name: string (nullable = true)\n",
            " |-- embedding: array (nullable = true)\n",
            " |    |-- element: double (containsNull = true)\n",
            "\n"
          ]
        }
      ]
    },
    {
      "cell_type": "code",
      "source": [
        "spark_df.show(5)"
      ],
      "metadata": {
        "colab": {
          "base_uri": "https://localhost:8080/"
        },
        "id": "owbsqvsCDnr9",
        "outputId": "311b238d-83b7-49a3-cb5c-e1c43e1da5ed"
      },
      "execution_count": null,
      "outputs": [
        {
          "output_type": "stream",
          "name": "stdout",
          "text": [
            "+--------------------+--------------------+\n",
            "|            img_name|           embedding|\n",
            "+--------------------+--------------------+\n",
            "|dataset//2a8ab4d1...|[0.24776868522167...|\n",
            "|dataset//049A1105...|[0.10554003715515...|\n",
            "|dataset//049A1104...|[-0.3308723568916...|\n",
            "|dataset//5L5B2543...|[1.91312944889068...|\n",
            "|dataset//049A1117...|[-0.0283312499523...|\n",
            "+--------------------+--------------------+\n",
            "only showing top 5 rows\n",
            "\n"
          ]
        }
      ]
    },
    {
      "cell_type": "markdown",
      "source": [
        "Connection\n"
      ],
      "metadata": {
        "id": "wK2wn1IEMbpY"
      }
    },
    {
      "cell_type": "code",
      "source": [
        "# Write into HDFS\n",
        "spark_df.write.parquet(path = \"/tmp/hadoop-shubhamjha/dfs/name/facial_db/embeddings.parquet\"\n",
        "    #, mode='append'\n",
        "    , mode='overwrite'\n",
        ")"
      ],
      "metadata": {
        "id": "YsF-5lZpMaZc"
      },
      "execution_count": null,
      "outputs": []
    },
    {
      "cell_type": "code",
      "source": [
        "target_img_path = \"dataset/target.JPG\""
      ],
      "metadata": {
        "id": "y7S2ptyEx34b"
      },
      "execution_count": null,
      "outputs": []
    },
    {
      "cell_type": "code",
      "source": [
        "target_img = functions.extract_faces(target_img_path, target_size = (160, 160))[0][:-2][0]"
      ],
      "metadata": {
        "id": "R8x1Ln6IKsp2"
      },
      "execution_count": null,
      "outputs": []
    },
    {
      "cell_type": "code",
      "source": [
        "target_img.shape"
      ],
      "metadata": {
        "colab": {
          "base_uri": "https://localhost:8080/"
        },
        "id": "MKTRzYaIx8OB",
        "outputId": "8befc81a-9bab-4f1e-a0fe-9b0a685b50ac"
      },
      "execution_count": null,
      "outputs": [
        {
          "output_type": "execute_result",
          "data": {
            "text/plain": [
              "(1, 160, 160, 3)"
            ]
          },
          "metadata": {},
          "execution_count": 17
        }
      ]
    },
    {
      "cell_type": "code",
      "source": [
        "plt.imshow(target_img[0][:,:,::-1])\n",
        "plt.axis('off')\n",
        "plt.show()"
      ],
      "metadata": {
        "colab": {
          "base_uri": "https://localhost:8080/",
          "height": 406
        },
        "id": "ILornb33ycnu",
        "outputId": "9d1cc254-82c5-444f-a371-bd4e0ec90107"
      },
      "execution_count": null,
      "outputs": [
        {
          "output_type": "display_data",
          "data": {
            "text/plain": [
              "<Figure size 640x480 with 1 Axes>"
            ],
            "image/png": "[encoded data removed]"
          },
          "metadata": {}
        }
      ]
    },
    {
      "cell_type": "code",
      "source": [
        "target_embedding = model.predict(target_img)[0].tolist()"
      ],
      "metadata": {
        "colab": {
          "base_uri": "https://localhost:8080/"
        },
        "id": "2QVmNXqHzDeb",
        "outputId": "c8231b41-d59f-46a0-f51f-6e365799d714"
      },
      "execution_count": null,
      "outputs": [
        {
          "output_type": "stream",
          "name": "stdout",
          "text": [
            "1/1 [==============================] - 0s 198ms/step\n"
          ]
        }
      ]
    },
    {
      "cell_type": "markdown",
      "source": [
        "Reading from hdfs"
      ],
      "metadata": {
        "id": "ueYFfcckU3b6"
      }
    },
    {
      "cell_type": "code",
      "source": [
        "sdf = sparkSession.read.parquet('/tmp/hadoop-shubhamjha/dfs/name/facial_db/embeddings.parquet')"
      ],
      "metadata": {
        "id": "0PRSsETQU3C5"
      },
      "execution_count": null,
      "outputs": []
    },
    {
      "cell_type": "code",
      "source": [
        "sdf.printSchema()"
      ],
      "metadata": {
        "colab": {
          "base_uri": "https://localhost:8080/"
        },
        "id": "9xV_a8qQU2wq",
        "outputId": "0f766ace-8008-4c55-f662-4d38f39a091b"
      },
      "execution_count": null,
      "outputs": [
        {
          "output_type": "stream",
          "name": "stdout",
          "text": [
            "root\n",
            " |-- img_name: string (nullable = true)\n",
            " |-- embedding: array (nullable = true)\n",
            " |    |-- element: double (containsNull = true)\n",
            "\n"
          ]
        }
      ]
    },
    {
      "cell_type": "code",
      "source": [
        "sdf = sdf.withColumn('target', F.array([F.lit(i) for i in target_embedding]))"
      ],
      "metadata": {
        "id": "TO6OhQGxzGqX"
      },
      "execution_count": null,
      "outputs": []
    },
    {
      "cell_type": "code",
      "source": [
        "sdf.show(5)"
      ],
      "metadata": {
        "colab": {
          "base_uri": "https://localhost:8080/"
        },
        "id": "ZZzGVn4_Vtne",
        "outputId": "79a22d8e-512d-4019-91bc-94c8c905e6ec"
      },
      "execution_count": null,
      "outputs": [
        {
          "output_type": "stream",
          "name": "stdout",
          "text": [
            "+--------------------+--------------------+--------------------+\n",
            "|            img_name|           embedding|              target|\n",
            "+--------------------+--------------------+--------------------+\n",
            "|dataset//2a8ab4d1...|[0.24776868522167...|[-0.7219305038452...|\n",
            "|dataset//049A1105...|[0.10554003715515...|[-0.7219305038452...|\n",
            "|dataset//049A1104...|[-0.3308723568916...|[-0.7219305038452...|\n",
            "|dataset//5L5B2543...|[1.91312944889068...|[-0.7219305038452...|\n",
            "|dataset//049A1117...|[-0.0283312499523...|[-0.7219305038452...|\n",
            "+--------------------+--------------------+--------------------+\n",
            "only showing top 5 rows\n",
            "\n"
          ]
        }
      ]
    },
    {
      "cell_type": "code",
      "source": [
        "sdf.show(5)"
      ],
      "metadata": {
        "colab": {
          "base_uri": "https://localhost:8080/"
        },
        "id": "zOIpMB4iVwBC",
        "outputId": "e81e77a2-219a-4d76-9856-fc479bc3592b"
      },
      "execution_count": null,
      "outputs": [
        {
          "output_type": "stream",
          "name": "stdout",
          "text": [
            "+--------------------+--------------------+--------------------+\n",
            "|            img_name|           embedding|              target|\n",
            "+--------------------+--------------------+--------------------+\n",
            "|dataset//2a8ab4d1...|[0.24776868522167...|[-0.7219305038452...|\n",
            "|dataset//049A1105...|[0.10554003715515...|[-0.7219305038452...|\n",
            "|dataset//049A1104...|[-0.3308723568916...|[-0.7219305038452...|\n",
            "|dataset//5L5B2543...|[1.91312944889068...|[-0.7219305038452...|\n",
            "|dataset//049A1117...|[-0.0283312499523...|[-0.7219305038452...|\n",
            "+--------------------+--------------------+--------------------+\n",
            "only showing top 5 rows\n",
            "\n"
          ]
        }
      ]
    },
    {
      "cell_type": "code",
      "source": [
        "@F.udf(\"array<double>\")\n",
        "def subtract_dims(xs, ys):\n",
        "    return [(x - y)*(x - y) for x, y in zip(xs, ys)]\n",
        "sdf.show(5)"
      ],
      "metadata": {
        "id": "SMTVchgqV1SX",
        "colab": {
          "base_uri": "https://localhost:8080/"
        },
        "outputId": "bd354d1e-a85e-4c23-9410-13a06b73d901"
      },
      "execution_count": null,
      "outputs": [
        {
          "output_type": "stream",
          "name": "stdout",
          "text": [
            "+--------------------+--------------------+--------------------+\n",
            "|            img_name|           embedding|              target|\n",
            "+--------------------+--------------------+--------------------+\n",
            "|dataset//2a8ab4d1...|[0.24776868522167...|[-0.7219305038452...|\n",
            "|dataset//049A1105...|[0.10554003715515...|[-0.7219305038452...|\n",
            "|dataset//049A1104...|[-0.3308723568916...|[-0.7219305038452...|\n",
            "|dataset//5L5B2543...|[1.91312944889068...|[-0.7219305038452...|\n",
            "|dataset//049A1117...|[-0.0283312499523...|[-0.7219305038452...|\n",
            "+--------------------+--------------------+--------------------+\n",
            "only showing top 5 rows\n",
            "\n"
          ]
        }
      ]
    },
    {
      "cell_type": "code",
      "source": [
        "sdf = sdf.withColumn(\"dim_subtracts\", subtract_dims(\"embedding\", \"target\"))\n",
        "sdf.show(5)"
      ],
      "metadata": {
        "id": "cQCWP-uAV4zt",
        "colab": {
          "base_uri": "https://localhost:8080/"
        },
        "outputId": "9c9e8ed3-ff65-41c3-801b-b79a70152c50"
      },
      "execution_count": null,
      "outputs": [
        {
          "output_type": "stream",
          "name": "stdout",
          "text": [
            "+--------------------+--------------------+--------------------+--------------------+\n",
            "|            img_name|           embedding|              target|       dim_subtracts|\n",
            "+--------------------+--------------------+--------------------+--------------------+\n",
            "|dataset//2a8ab4d1...|[0.24776868522167...|[-0.7219305038452...|[0.94031651727697...|\n",
            "|dataset//049A1105...|[0.10554003715515...|[-0.7219305038452...|[0.68470749622343...|\n",
            "|dataset//049A1104...|[-0.3308723568916...|[-0.7219305038452...|[0.15292647429876...|\n",
            "|dataset//5L5B2543...|[1.91312944889068...|[-0.7219305038452...|[6.94354095451252...|\n",
            "|dataset//049A1117...|[-0.0283312499523...|[-0.7219305038452...|[0.48107992500078...|\n",
            "+--------------------+--------------------+--------------------+--------------------+\n",
            "only showing top 5 rows\n",
            "\n"
          ]
        }
      ]
    },
    {
      "cell_type": "code",
      "source": [
        "sdf = sdf.select('*')\n",
        "sdf.show(5)"
      ],
      "metadata": {
        "colab": {
          "base_uri": "https://localhost:8080/"
        },
        "id": "uoVU8Ze_V-hf",
        "outputId": "881001ba-d07f-46d5-c0e9-bb001b4366b9"
      },
      "execution_count": null,
      "outputs": [
        {
          "output_type": "stream",
          "name": "stdout",
          "text": [
            "+--------------------+--------------------+--------------------+--------------------+\n",
            "|            img_name|           embedding|              target|       dim_subtracts|\n",
            "+--------------------+--------------------+--------------------+--------------------+\n",
            "|dataset//2a8ab4d1...|[0.24776868522167...|[-0.7219305038452...|[0.94031651727697...|\n",
            "|dataset//049A1105...|[0.10554003715515...|[-0.7219305038452...|[0.68470749622343...|\n",
            "|dataset//049A1104...|[-0.3308723568916...|[-0.7219305038452...|[0.15292647429876...|\n",
            "|dataset//5L5B2543...|[1.91312944889068...|[-0.7219305038452...|[6.94354095451252...|\n",
            "|dataset//049A1117...|[-0.0283312499523...|[-0.7219305038452...|[0.48107992500078...|\n",
            "+--------------------+--------------------+--------------------+--------------------+\n",
            "only showing top 5 rows\n",
            "\n"
          ]
        }
      ]
    },
    {
      "cell_type": "code",
      "source": [
        "distance_column = []\n",
        "for row in sdf.collect():  # Iterate over each row of the DataFrame\n",
        "    distance = 0\n",
        "    for element in row['dim_subtracts']:  # Iterate over each element in the `dim_subtracts` array\n",
        "        distance += element\n",
        "    distance_column.append(distance)\n",
        "\n",
        "len(distance_column)\n"
      ],
      "metadata": {
        "id": "YtXBi0DXWCrr",
        "colab": {
          "base_uri": "https://localhost:8080/"
        },
        "outputId": "a69c6a99-607b-459e-d507-655f03dd092e"
      },
      "execution_count": null,
      "outputs": [
        {
          "output_type": "execute_result",
          "data": {
            "text/plain": [
              "20"
            ]
          },
          "metadata": {},
          "execution_count": 28
        }
      ]
    },
    {
      "cell_type": "code",
      "source": [
        "distance_df = sparkSession.createDataFrame([(i,) for i in distance_column], ['distance'])\n",
        "distance_df.show(5)"
      ],
      "metadata": {
        "colab": {
          "base_uri": "https://localhost:8080/"
        },
        "id": "5kCtQMkxtKU9",
        "outputId": "1d936554-ed60-4bc6-9439-ead50a34a7ce"
      },
      "execution_count": null,
      "outputs": [
        {
          "output_type": "stream",
          "name": "stdout",
          "text": [
            "+------------------+\n",
            "|          distance|\n",
            "+------------------+\n",
            "| 65.34675871643167|\n",
            "| 36.44003132170641|\n",
            "|191.38145829850913|\n",
            "|136.84414082489312|\n",
            "| 146.9098302407241|\n",
            "+------------------+\n",
            "only showing top 5 rows\n",
            "\n"
          ]
        }
      ]
    },
    {
      "cell_type": "code",
      "source": [
        "sdf = sdf.withColumn(\"id\", F.monotonically_increasing_id())\n",
        "distance_df = distance_df.withColumn(\"id\", F.monotonically_increasing_id())\n",
        "\n",
        "sdf.show(5)\n",
        "distance_df.show(5)"
      ],
      "metadata": {
        "id": "-Eps19WAha2y",
        "colab": {
          "base_uri": "https://localhost:8080/"
        },
        "outputId": "e29cf376-a3f6-464c-cd74-104c6d7011c3"
      },
      "execution_count": null,
      "outputs": [
        {
          "output_type": "stream",
          "name": "stdout",
          "text": [
            "+--------------------+--------------------+--------------------+--------------------+---+\n",
            "|            img_name|           embedding|              target|       dim_subtracts| id|\n",
            "+--------------------+--------------------+--------------------+--------------------+---+\n",
            "|dataset//2a8ab4d1...|[0.24776868522167...|[-0.7219305038452...|[0.94031651727697...|  0|\n",
            "|dataset//049A1105...|[0.10554003715515...|[-0.7219305038452...|[0.68470749622343...|  1|\n",
            "|dataset//049A1104...|[-0.3308723568916...|[-0.7219305038452...|[0.15292647429876...|  2|\n",
            "|dataset//5L5B2543...|[1.91312944889068...|[-0.7219305038452...|[6.94354095451252...|  3|\n",
            "|dataset//049A1117...|[-0.0283312499523...|[-0.7219305038452...|[0.48107992500078...|  4|\n",
            "+--------------------+--------------------+--------------------+--------------------+---+\n",
            "only showing top 5 rows\n",
            "\n",
            "+------------------+---+\n",
            "|          distance| id|\n",
            "+------------------+---+\n",
            "| 65.34675871643167|  0|\n",
            "| 36.44003132170641|  1|\n",
            "|191.38145829850913|  2|\n",
            "|136.84414082489312|  3|\n",
            "| 146.9098302407241|  4|\n",
            "+------------------+---+\n",
            "only showing top 5 rows\n",
            "\n"
          ]
        }
      ]
    },
    {
      "cell_type": "code",
      "source": [
        "sdf = sdf.join(distance_df, \"id\", \"outer\")\n",
        "sdf.show(5)"
      ],
      "metadata": {
        "colab": {
          "base_uri": "https://localhost:8080/"
        },
        "id": "AxOGeTaNuv8F",
        "outputId": "4a1f2742-7b5a-4188-de5c-3dff8a9bd254"
      },
      "execution_count": null,
      "outputs": [
        {
          "output_type": "stream",
          "name": "stdout",
          "text": [
            "+---+--------------------+--------------------+--------------------+--------------------+------------------+\n",
            "| id|            img_name|           embedding|              target|       dim_subtracts|          distance|\n",
            "+---+--------------------+--------------------+--------------------+--------------------+------------------+\n",
            "|  0|dataset//2a8ab4d1...|[0.24776868522167...|[-0.7219305038452...|[0.94031651727697...| 65.34675871643167|\n",
            "|  1|dataset//049A1105...|[0.10554003715515...|[-0.7219305038452...|[0.68470749622343...| 36.44003132170641|\n",
            "|  2|dataset//049A1104...|[-0.3308723568916...|[-0.7219305038452...|[0.15292647429876...|191.38145829850913|\n",
            "|  3|dataset//5L5B2543...|[1.91312944889068...|[-0.7219305038452...|[6.94354095451252...|136.84414082489312|\n",
            "|  4|dataset//049A1117...|[-0.0283312499523...|[-0.7219305038452...|[0.48107992500078...| 146.9098302407241|\n",
            "+---+--------------------+--------------------+--------------------+--------------------+------------------+\n",
            "only showing top 5 rows\n",
            "\n"
          ]
        }
      ]
    },
    {
      "cell_type": "code",
      "source": [
        "sdf = sdf.withColumn(\"distance\", F.sqrt(\"distance\"))\n",
        "sdf.show(5)\n"
      ],
      "metadata": {
        "colab": {
          "base_uri": "https://localhost:8080/"
        },
        "id": "DLa0cZsLhdIp",
        "outputId": "5c06da57-efe4-4818-ca65-fffe52807808"
      },
      "execution_count": null,
      "outputs": [
        {
          "output_type": "stream",
          "name": "stdout",
          "text": [
            "+---+--------------------+--------------------+--------------------+--------------------+------------------+\n",
            "| id|            img_name|           embedding|              target|       dim_subtracts|          distance|\n",
            "+---+--------------------+--------------------+--------------------+--------------------+------------------+\n",
            "|  0|dataset//2a8ab4d1...|[0.24776868522167...|[-0.7219305038452...|[0.94031651727697...|  8.08373420619652|\n",
            "|  1|dataset//049A1105...|[0.10554003715515...|[-0.7219305038452...|[0.68470749622343...| 6.036557903450145|\n",
            "|  2|dataset//049A1104...|[-0.3308723568916...|[-0.7219305038452...|[0.15292647429876...|13.834068754293117|\n",
            "|  3|dataset//5L5B2543...|[1.91312944889068...|[-0.7219305038452...|[6.94354095451252...|11.698040042028113|\n",
            "|  4|dataset//049A1117...|[-0.0283312499523...|[-0.7219305038452...|[0.48107992500078...| 12.12063654437027|\n",
            "+---+--------------------+--------------------+--------------------+--------------------+------------------+\n",
            "only showing top 5 rows\n",
            "\n"
          ]
        }
      ]
    },
    {
      "cell_type": "code",
      "source": [
        "sdf.schema"
      ],
      "metadata": {
        "colab": {
          "base_uri": "https://localhost:8080/"
        },
        "id": "3RLboMSjhkbt",
        "outputId": "c1ad02eb-fad1-4273-9fac-a683ecfe1606"
      },
      "execution_count": null,
      "outputs": [
        {
          "output_type": "execute_result",
          "data": {
            "text/plain": [
              "StructType([StructField('id', LongType(), True), StructField('img_name', StringType(), True), StructField('embedding', ArrayType(DoubleType(), True), True), StructField('target', ArrayType(DoubleType(), False), True), StructField('dim_subtracts', ArrayType(DoubleType(), True), True), StructField('distance', DoubleType(), True)])"
            ]
          },
          "metadata": {},
          "execution_count": 33
        }
      ]
    },
    {
      "cell_type": "code",
      "source": [
        "sdf = sdf.drop(\"embedding\", \"target\", \"dim_subtracts\")"
      ],
      "metadata": {
        "id": "6G3l3JW9hu2o"
      },
      "execution_count": null,
      "outputs": []
    },
    {
      "cell_type": "code",
      "source": [
        "sdf.show(5)"
      ],
      "metadata": {
        "colab": {
          "base_uri": "https://localhost:8080/"
        },
        "id": "Bzi7W_vdxO0L",
        "outputId": "67e5ac30-656b-4e74-ca80-0fa93d7db079"
      },
      "execution_count": null,
      "outputs": [
        {
          "output_type": "stream",
          "name": "stdout",
          "text": [
            "+---+--------------------+------------------+\n",
            "| id|            img_name|          distance|\n",
            "+---+--------------------+------------------+\n",
            "|  0|dataset//2a8ab4d1...|  8.08373420619652|\n",
            "|  1|dataset//049A1105...| 6.036557903450145|\n",
            "|  2|dataset//049A1104...|13.834068754293117|\n",
            "|  3|dataset//5L5B2543...|11.698040042028113|\n",
            "|  4|dataset//049A1117...| 12.12063654437027|\n",
            "+---+--------------------+------------------+\n",
            "only showing top 5 rows\n",
            "\n"
          ]
        }
      ]
    },
    {
      "cell_type": "markdown",
      "source": [
        "SQL"
      ],
      "metadata": {
        "id": "VoQGeazcyF-Y"
      }
    },
    {
      "cell_type": "code",
      "source": [
        "sdf.createOrReplaceTempView(\"facial_db\")"
      ],
      "metadata": {
        "id": "ULp0We8YxY_1"
      },
      "execution_count": null,
      "outputs": []
    },
    {
      "cell_type": "code",
      "source": [
        "query = sparkSession.sql(\"SELECT img_name, distance from facial_db where distance < 13 order by distance asc\")"
      ],
      "metadata": {
        "id": "3yZhFt6ayHMe"
      },
      "execution_count": null,
      "outputs": []
    },
    {
      "cell_type": "code",
      "source": [
        "tic = time.time()\n",
        "results = query.collect()\n",
        "toc = time.time()\n",
        "\n",
        "print(toc-tic,\" seconds\")"
      ],
      "metadata": {
        "colab": {
          "base_uri": "https://localhost:8080/"
        },
        "id": "bWmUwqulyMKi",
        "outputId": "9b6c36d0-a82f-451a-cef4-bc3f0b24cf99"
      },
      "execution_count": null,
      "outputs": [
        {
          "output_type": "stream",
          "name": "stdout",
          "text": [
            "2.11842679977417  seconds\n"
          ]
        }
      ]
    },
    {
      "cell_type": "code",
      "source": [
        "for result in results:\n",
        "    print(result[\"img_name\"], \" /w \", round(result[\"distance\"], 4),\" distance\")\n",
        "    print(\"------------------------------------\")"
      ],
      "metadata": {
        "colab": {
          "base_uri": "https://localhost:8080/"
        },
        "id": "i-727tuZyQAg",
        "outputId": "57b2e52e-1b47-46a6-ff42-d3fc4113d64e"
      },
      "execution_count": null,
      "outputs": [
        {
          "output_type": "stream",
          "name": "stdout",
          "text": [
            "dataset//target.JPG  /w  0.0  distance\n",
            "------------------------------------\n",
            "dataset//049A1105.JPG  /w  6.0366  distance\n",
            "------------------------------------\n",
            "dataset//2a8ab4d1-597f-457a-a14a-4e8c4c047a21.JPG  /w  8.0837  distance\n",
            "------------------------------------\n",
            "dataset//5L5B0664.JPG  /w  11.5494  distance\n",
            "------------------------------------\n",
            "dataset//5L5B2543.JPG  /w  11.698  distance\n",
            "------------------------------------\n",
            "dataset//049A1449.JPG  /w  11.8826  distance\n",
            "------------------------------------\n",
            "dataset//049A1107.JPG  /w  11.906  distance\n",
            "------------------------------------\n",
            "dataset//5L5B0637.JPG  /w  11.9796  distance\n",
            "------------------------------------\n",
            "dataset//049A1117.JPG  /w  12.1206  distance\n",
            "------------------------------------\n",
            "dataset//049A1337.JPG  /w  12.4072  distance\n",
            "------------------------------------\n"
          ]
        }
      ]
    },
    {
      "cell_type": "code",
      "source": [
        "from IPython.display import HTML\n",
        "from base64 import b64encode\n",
        "\n",
        "def show_image(path_to_image, width=None, height=None):\n",
        "\n",
        "    mime_type = None\n",
        "    #path_to_image = path_to_image.lower()\n",
        "\n",
        "    # More MIME types:\n",
        "    # https://developer.mozilla.org/en-US/docs/Web/HTTP/Basics_of_HTTP/MIME_types\n",
        "    if path_to_image.endswith('.JPG') or path_to_image.endswith('.jpeg'):\n",
        "        mime_type = 'image/jpeg'\n",
        "    elif path_to_image.endswith('.png'):\n",
        "        mime_type = 'image/png'\n",
        "    elif path_to_image.endswith('.gif'):\n",
        "        mime_type = 'image/gif'\n",
        "    else:\n",
        "        raise ValueError('Unknown extension: %s' % (path_to_image))\n",
        "\n",
        "    img = open(path_to_image, 'rb').read()\n",
        "    data_url = 'data:image/jpeg;base64,' + b64encode(img).decode()\n",
        "\n",
        "    width_str = \"width='%d'\" % (width) if width is not None else ''\n",
        "    height_str = \"height='%d'\" % (width) if height is not None else ''\n",
        "\n",
        "    display(HTML(\"<img src='%s' %s%s>\" % (data_url, width_str, height_str)))"
      ],
      "metadata": {
        "id": "gQ0NXb6cyU8T"
      },
      "execution_count": null,
      "outputs": []
    },
    {
      "cell_type": "code",
      "source": [
        "for result in results:\n",
        "  show_image(result[\"img_name\"].replace(\"//\",\"/\").replace(\"jpg\",\"JPG\"), 400, 400)"
      ],
      "metadata": {
        "colab": {
          "base_uri": "https://localhost:8080/",
          "height": 1000
        },
        "id": "C_rYS2h47OL4",
        "outputId": "21ddf92b-1e92-4d91-bada-308090d31953"
      },
      "execution_count": null,
      "outputs": []
    },
    {
      "cell_type": "code",
      "source": [],
      "metadata": {
        "id": "0n67U4HCt_RI"
      },
      "execution_count": null,
      "outputs": []
    }
  ]
}